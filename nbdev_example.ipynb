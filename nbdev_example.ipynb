{
 "cells": [
  {
   "cell_type": "markdown",
   "id": "f5b59856-fe6f-45fb-a601-3ab8672208e2",
   "metadata": {},
   "source": [
    "# Tutorial Tips and Jupyter4Science\n",
    "> A SciPy 2024 Lightning Talk by [Nicole Brewer](https://nicole-brewer.com)"
   ]
  },
  {
   "cell_type": "markdown",
   "id": "1c07d35d-ab5b-4b80-8ebf-ff579e04322e",
   "metadata": {},
   "source": [
    "## What is nbdev?\n",
    "\n",
    "- [nbdev](https://nbdev.fast.ai) - a notebook-driven development platform. Simply write notebooks with lightweight markup and get high-quality documentation, tests, continuous integration, and packaging.\n",
    "\n",
    "- [modular nbdev](https://nbdev.fast.ai/tutorials/modular_nbdev.html) - makes use of only the most basic features of nbdev. It will allow us take any standalone notebook and turn it into a Python script or module. Modular nbdev will allow us to bridge the gap between messy, exploratory tutorial notebooks and clean, well-organized Python modules that we can import from. \n",
    "\n",
    "The following introduction to \"modular nbdev\" is a much simpler than the full [nbdev tutorial](https://nbdev.fast.ai/tutorials/tutorial.html) because we won't create a continuous integration Python package that can be uploaded to PyPi and/or Anaconda. We will simply use notebooks to create clean Python modules that we can use to build our dashboards and web apps. From here on out, when we mention \"nbdev\", we are really referring to \"modular nbdev.\""
   ]
  },
  {
   "cell_type": "markdown",
   "id": "facd5c33-e0db-4142-9166-b44965f1b1db",
   "metadata": {},
   "source": [
    "### Why?\n",
    "While Jupyter notebooks can be exported to a Python file, nbdev allows us to export only some notebook cells, those that we choose, into a Python module. The real benefit of this approach lies in the ability to allow your notebook to tell the story of how your code came into its final form. This programming paradigm where the code provides the documentation for decisions its design is called [literate programming](https://en.wikipedia.org/wiki/Literate_programming).\n",
    "\n",
    "Instead of cleaning up your notebooks when you have achieved your coding goal, you can leave in all the valuable information about its history including (1) showing intermediate steps for clarity and testing and\n",
    "(2) documenting failed attempts and design decisions. This can be very helpful for another developer (or our future-selves) who may be trying to understand our code."
   ]
  },
  {
   "cell_type": "markdown",
   "id": "52e8092d-118c-428b-94ac-9ade990191e6",
   "metadata": {},
   "source": [
    "## How?"
   ]
  },
  {
   "cell_type": "markdown",
   "id": "ca3e689d-711c-4baa-9888-42cac6b2dca7",
   "metadata": {},
   "source": [
    "#### `#| default_exp`: Defining the target file for export\n",
    "\n",
    "The first thing we need to do is tell nbdev what file we intend to export selected cells to.\n",
    "\n",
    "We are intending to create a Python package called `dashboard` that will contain all the files we need for our dashboard. By convention, it will be created in a directory called `dashboard`.  We define that directory when we actually export the cells near the end of the notebook.  To define the individual file (often called module) within this package, we use the `#| default_exp` directive.  Notice that nbdev directives all start with \"#|\"."
   ]
  },
  {
   "cell_type": "markdown",
   "id": "20f44464-a374-4704-99d5-cc99f9476871",
   "metadata": {},
   "source": [
    "> **IMPORTANT:** A few additional hints about using nbdev to create a Python module:\n",
    "> 1.  You can also give it a “dotted module names” as is done with Python packages. For example, a `#| default_exp` directive with an output file of `some.module` will create a file called `some/module.py` within the package directory.\n",
    "> 2.  Each Jupyter notebook can only be exported to a SINGLE Python module. If you want to export cells to multiple modules, you will need to create multiple notebooks.\n",
    "> 3.  The `nb_export` function we will use reads the Jupyter notebook file from the disk in order to convert it.  This means only changes to the notebook that have been saved to disk will be written to the Python package."
   ]
  },
  {
   "cell_type": "code",
   "execution_count": null,
   "id": "679874e0-bf35-42e6-8f08-6dbc08b92c06",
   "metadata": {},
   "outputs": [],
   "source": [
    "#| default_exp examplemodule"
   ]
  },
  {
   "cell_type": "markdown",
   "id": "747a5f99-d3c0-4d46-8eb6-71936f6fc07a",
   "metadata": {},
   "source": [
    "#### `#| export`: Marking a cell for export\n",
    "\n",
    "This directive tells nbdev that we want to export the code in this notebook cell to the module specified by `default_exp`. Notice that we need to export everything that we want to end up in the Python file, so we can't forget to export our imports.\n",
    "\n",
    "- `#| export` Gotchas\n",
    "\n",
    "  - All nbdev directives (those starting with `#| ` must be in the first line of the cell.\n",
    "\n",
    "  - When performing an export, the cell can only contain imports *or* any other Python commands other than imports, but not both.  This is due to the way nbdev parses the cells in order to build a representation of the documentation.\n",
    "\n",
    "  - The great benefit of using nbdev for development can also be the most challenging part of using nbdev - making sure we have not forgotten to export all the right cells to our resulting Python file. If you ever get a confusing or unexpected error on importing a module created with nbdev, it's very likely you forgot to export one of your code cells."
   ]
  },
  {
   "cell_type": "code",
   "execution_count": null,
   "id": "7a75a4c7-a5c1-4d99-9f75-f6e0f1db7325",
   "metadata": {},
   "outputs": [],
   "source": [
    "def hello():\n",
    "    print('Hello world!')"
   ]
  },
  {
   "cell_type": "code",
   "execution_count": null,
   "id": "e5f959b5-d71e-4a72-9252-8d5483645622",
   "metadata": {},
   "outputs": [],
   "source": [
    "hello()"
   ]
  },
  {
   "cell_type": "code",
   "execution_count": 2,
   "id": "76799b3e-ada3-4888-a12a-7722fd2ed853",
   "metadata": {},
   "outputs": [],
   "source": [
    "#| export\n",
    "def hello(name):\n",
    "    print('Hello ' + name + '!')"
   ]
  },
  {
   "cell_type": "code",
   "execution_count": null,
   "id": "5a5afccc-aa70-43c9-b126-1822fb3e032b",
   "metadata": {},
   "outputs": [],
   "source": [
    "hello('you')"
   ]
  },
  {
   "cell_type": "code",
   "execution_count": null,
   "id": "4a560183-24fa-4a46-9ddd-877809ec6c48",
   "metadata": {},
   "outputs": [],
   "source": [
    "assert hello('you') == 'Hello you!'"
   ]
  },
  {
   "cell_type": "markdown",
   "id": "8c6cd072-b8ff-411e-b623-a06b281ae0d4",
   "metadata": {},
   "source": [
    "## `nb_export()`: Exporting the notebook to a Python module\n",
    "\n",
    "Finally, we can use the `nb_export()` function to export the cells we selected into a Python file. The second parameter tells nbdev which package to export the module to. Let's go ahead and export this notebook to the `dashboard` package.\n",
    "\n",
    "Note that the `nb_export()` function reads the notebook from disk before creating the module (and package directory if necessary), so you will need to save your notebook before running the export!\n",
    "\n",
    "> **IMPORTANT**: Do not forget to save before exporting the notebook, or your most recent changes will not make it into `__init__.py` file in the `dashboard` directory. It is also a good habit to \"Restart Kernel and Clear All Outputs\" and then save your notebook at the same time as you export. That way, when you get around to committing your code, your `git diff` isn't filled up with a bunch of serial numbers and other unintelligible things."
   ]
  },
  {
   "cell_type": "code",
   "execution_count": 3,
   "id": "08c0bf7a-735c-4c2e-821f-88339bf37cc1",
   "metadata": {},
   "outputs": [],
   "source": [
    "from nbdev.export import nb_export\n",
    "\n",
    "# The nb_export command requires the notebook name and the target library name\n",
    "nb_export('nbdev_example.ipynb', '.')"
   ]
  },
  {
   "cell_type": "code",
   "execution_count": 4,
   "id": "6647858a-d3a6-48ff-a3e7-976418ec2582",
   "metadata": {},
   "outputs": [],
   "source": [
    "%load examplemodule.py"
   ]
  },
  {
   "cell_type": "markdown",
   "id": "a1302c37-cb6c-4019-82a6-9a928bc84e44",
   "metadata": {},
   "source": [
    "## Using the exported `dashboard` module\n"
   ]
  },
  {
   "cell_type": "markdown",
   "id": "b600c29a-7c68-4bec-a3c4-78fac32c539b",
   "metadata": {},
   "source": [
    "Let's i"
   ]
  },
  {
   "cell_type": "code",
   "execution_count": null,
   "id": "e2494b62-571a-4b6f-839a-c14c2d49994c",
   "metadata": {},
   "outputs": [],
   "source": [
    "from examplemodule import hello"
   ]
  },
  {
   "cell_type": "code",
   "execution_count": null,
   "id": "55f87454-0743-423b-9551-2d2aa3d4507f",
   "metadata": {},
   "outputs": [],
   "source": []
  }
 ],
 "metadata": {
  "kernelspec": {
   "display_name": "Python 3 (ipykernel)",
   "language": "python",
   "name": "python3"
  },
  "language_info": {
   "codemirror_mode": {
    "name": "ipython",
    "version": 3
   },
   "file_extension": ".py",
   "mimetype": "text/x-python",
   "name": "python",
   "nbconvert_exporter": "python",
   "pygments_lexer": "ipython3",
   "version": "3.12.4"
  }
 },
 "nbformat": 4,
 "nbformat_minor": 5
}
